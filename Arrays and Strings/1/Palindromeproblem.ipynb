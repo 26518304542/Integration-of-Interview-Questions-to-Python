{
 "cells": [
  {
   "cell_type": "code",
   "execution_count": 2,
   "metadata": {},
   "outputs": [
    {
     "name": "stdout",
     "output_type": "stream",
     "text": [
      "h 1\to 1\tc 1\to 2\th 2\tyes\n",
      "g 1\to 1\tg 2\tn 1\tno\n"
     ]
    }
   ],
   "source": [
    "NO_OF_CHARS = 256\n",
    "\n",
    "def canFormPalindrome(str1):\n",
    "    \n",
    "    \n",
    "    \n",
    "    count = [0]*NO_OF_CHARS\n",
    "    \n",
    "    for i in range(0,len(str1)):\n",
    "        count[ord(str1[i])] =  count[ord(str1[i])] + 1\n",
    "        print(str1[i],count[ord(str1[i])],end=\"\\t\") \n",
    "        \n",
    "    odd = 0\n",
    "    mid = len(str1)/2\n",
    "    mn = 0\n",
    "    for i in range(0,NO_OF_CHARS):\n",
    "        if(count[i] & 1):\n",
    "            odd = odd + 1\n",
    "            mn = count[i]\n",
    "        \n",
    "        if(odd > 1):\n",
    "            return False\n",
    "        \n",
    "    return True\n",
    "\n",
    "if __name__ == '__main__':\n",
    "    str1 = \"hocoh\"\n",
    "    if(canFormPalindrome(str1)):\n",
    "        print(\"yes\")\n",
    "    else:\n",
    "        print(\"no\")\n",
    "     \n",
    "    str2 = \"gogn\"\n",
    "    if(canFormPalindrome(str2)):\n",
    "        print(\"yes\")\n",
    "    else:\n",
    "        print(\"no\")"
   ]
  },
  {
   "cell_type": "code",
   "execution_count": null,
   "metadata": {},
   "outputs": [],
   "source": []
  }
 ],
 "metadata": {
  "kernelspec": {
   "display_name": "Python 3",
   "language": "python",
   "name": "python3"
  },
  "language_info": {
   "codemirror_mode": {
    "name": "ipython",
    "version": 3
   },
   "file_extension": ".py",
   "mimetype": "text/x-python",
   "name": "python",
   "nbconvert_exporter": "python",
   "pygments_lexer": "ipython3",
   "version": "3.7.4"
  }
 },
 "nbformat": 4,
 "nbformat_minor": 4
}
