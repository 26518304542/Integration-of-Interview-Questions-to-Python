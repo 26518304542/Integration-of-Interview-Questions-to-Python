{
 "cells": [
  {
   "cell_type": "code",
   "execution_count": 3,
   "metadata": {},
   "outputs": [
    {
     "name": "stdout",
     "output_type": "stream",
     "text": [
      "no\n",
      "yes\n"
     ]
    }
   ],
   "source": [
    "NO_OF_CHARS = 256\n",
    "\n",
    "def canFormPalindrome(str1):\n",
    "    \n",
    "    \n",
    "    \n",
    "    count = [0]*NO_OF_CHARS\n",
    "    \n",
    "    for i in range(0,len(str1)):\n",
    "       count[ord(str1[i])] =  count[ord(str1[i])] + 1\n",
    "        \n",
    "    odd = 0\n",
    "    \n",
    "    for i in range(0,NO_OF_CHARS):\n",
    "        if(count[i] & 1):\n",
    "            odd = odd + 1\n",
    "        \n",
    "        if(odd > 1):\n",
    "            return False\n",
    "    return True\n",
    "\n",
    "if __name__ == '__main__':\n",
    "    str1 = \"geeksforgeeks\"\n",
    "    if(canFormPalindrome(str1)):\n",
    "        print(\"yes\")\n",
    "    else:\n",
    "        print(\"no\")\n",
    "     \n",
    "    str2 = \"geeksogeeks\"\n",
    "    if(canFormPalindrome(str2)):\n",
    "        print(\"yes\")\n",
    "    else:\n",
    "        print(\"no\")"
   ]
  },
  {
   "cell_type": "code",
   "execution_count": 2,
   "metadata": {},
   "outputs": [
    {
     "ename": "NameError",
     "evalue": "name 'canFormPalindrome' is not defined",
     "output_type": "error",
     "traceback": [
      "\u001b[1;31m---------------------------------------------------------------------------\u001b[0m",
      "\u001b[1;31mNameError\u001b[0m                                 Traceback (most recent call last)",
      "\u001b[1;32m<ipython-input-2-09896eaf34d1>\u001b[0m in \u001b[0;36m<module>\u001b[1;34m\u001b[0m\n\u001b[0;32m     35\u001b[0m \u001b[1;32mif\u001b[0m \u001b[0m__name__\u001b[0m \u001b[1;33m==\u001b[0m \u001b[1;34m'__main__'\u001b[0m\u001b[1;33m:\u001b[0m\u001b[1;33m\u001b[0m\u001b[1;33m\u001b[0m\u001b[0m\n\u001b[0;32m     36\u001b[0m     \u001b[0mstr1\u001b[0m \u001b[1;33m=\u001b[0m \u001b[1;34m\"geeksforgeeks\"\u001b[0m\u001b[1;33m\u001b[0m\u001b[1;33m\u001b[0m\u001b[0m\n\u001b[1;32m---> 37\u001b[1;33m     \u001b[1;32mif\u001b[0m\u001b[1;33m(\u001b[0m\u001b[0mcanFormPalindrome\u001b[0m\u001b[1;33m(\u001b[0m\u001b[0mstr1\u001b[0m\u001b[1;33m)\u001b[0m\u001b[1;33m)\u001b[0m\u001b[1;33m:\u001b[0m\u001b[1;33m\u001b[0m\u001b[1;33m\u001b[0m\u001b[0m\n\u001b[0m\u001b[0;32m     38\u001b[0m         \u001b[0mprint\u001b[0m\u001b[1;33m(\u001b[0m\u001b[1;34m\"yes\"\u001b[0m\u001b[1;33m)\u001b[0m\u001b[1;33m\u001b[0m\u001b[1;33m\u001b[0m\u001b[0m\n\u001b[0;32m     39\u001b[0m     \u001b[1;32melse\u001b[0m\u001b[1;33m:\u001b[0m\u001b[1;33m\u001b[0m\u001b[1;33m\u001b[0m\u001b[0m\n",
      "\u001b[1;31mNameError\u001b[0m: name 'canFormPalindrome' is not defined"
     ]
    }
   ],
   "source": [
    "def canFormpalindrome(str1):\n",
    "    \n",
    "    table = buildCharFrequencyTable(str1)\n",
    "    return checkMaxOneOdd(table)\n",
    "\n",
    "def checkMaxOneOdd(table):\n",
    "    foundOdd = False\n",
    "    \n",
    "    for i in range(0,len(table)):\n",
    "        if(ord(table[i])%2==1):\n",
    "            if(foundOdd):\n",
    "                return False\n",
    "            foundOdd = True\n",
    "    return True\n",
    "\n",
    "def getCharNumber(let):\n",
    "    a = ord('a')\n",
    "    z = ord('z')\n",
    "    val = ord(let)\n",
    "    if(a<=val&val<=z):\n",
    "        return val-a\n",
    "    return -1\n",
    "\n",
    "def buildCharFrequencyTable(phrase):\n",
    "    table = [ord('z')-ord('a')+1]\n",
    "    \n",
    "    c = list(phrase)\n",
    "    for i in range(0,c):\n",
    "        x = getCharNumber(c[i])\n",
    "        if(x!=-1):\n",
    "            table[x] += 1\n",
    "    return table       \n",
    "    \n",
    "    \n",
    "if __name__ == '__main__':\n",
    "    str1 = \"geeksforgeeks\"\n",
    "    if(canFormPalindrome(str1)):\n",
    "        print(\"yes\")\n",
    "    else:\n",
    "        print(\"no\")\n",
    "     \n",
    "    str2 = \"geeksogeeks\"\n",
    "    if(canFormPalindrome(str2)):\n",
    "        print(\"yes\")\n",
    "    else:\n",
    "        print(\"no\")"
   ]
  },
  {
   "cell_type": "code",
   "execution_count": 24,
   "metadata": {},
   "outputs": [
    {
     "ename": "IndexError",
     "evalue": "list index out of range",
     "output_type": "error",
     "traceback": [
      "\u001b[1;31m---------------------------------------------------------------------------\u001b[0m",
      "\u001b[1;31mIndexError\u001b[0m                                Traceback (most recent call last)",
      "\u001b[1;32m<ipython-input-24-f5f6e11d1347>\u001b[0m in \u001b[0;36m<module>\u001b[1;34m\u001b[0m\n\u001b[0;32m     26\u001b[0m \u001b[1;32mif\u001b[0m \u001b[0m__name__\u001b[0m \u001b[1;33m==\u001b[0m \u001b[1;34m'__main__'\u001b[0m\u001b[1;33m:\u001b[0m\u001b[1;33m\u001b[0m\u001b[1;33m\u001b[0m\u001b[0m\n\u001b[0;32m     27\u001b[0m     \u001b[0mstr1\u001b[0m \u001b[1;33m=\u001b[0m \u001b[1;34m\"aba\"\u001b[0m\u001b[1;33m\u001b[0m\u001b[1;33m\u001b[0m\u001b[0m\n\u001b[1;32m---> 28\u001b[1;33m     \u001b[1;32mif\u001b[0m\u001b[1;33m(\u001b[0m\u001b[0misPermutationofPalindrome1\u001b[0m\u001b[1;33m(\u001b[0m\u001b[0mstr1\u001b[0m\u001b[1;33m)\u001b[0m\u001b[1;33m)\u001b[0m\u001b[1;33m:\u001b[0m\u001b[1;33m\u001b[0m\u001b[1;33m\u001b[0m\u001b[0m\n\u001b[0m\u001b[0;32m     29\u001b[0m         \u001b[0mprint\u001b[0m\u001b[1;33m(\u001b[0m\u001b[1;34m\"yes\"\u001b[0m\u001b[1;33m)\u001b[0m\u001b[1;33m\u001b[0m\u001b[1;33m\u001b[0m\u001b[0m\n\u001b[0;32m     30\u001b[0m     \u001b[1;32melse\u001b[0m\u001b[1;33m:\u001b[0m\u001b[1;33m\u001b[0m\u001b[1;33m\u001b[0m\u001b[0m\n",
      "\u001b[1;32m<ipython-input-24-f5f6e11d1347>\u001b[0m in \u001b[0;36misPermutationofPalindrome1\u001b[1;34m(phrase)\u001b[0m\n\u001b[0;32m     15\u001b[0m         \u001b[0mx\u001b[0m \u001b[1;33m=\u001b[0m \u001b[0mgetCharNumber\u001b[0m\u001b[1;33m(\u001b[0m\u001b[0mc\u001b[0m\u001b[1;33m[\u001b[0m\u001b[0mi\u001b[0m\u001b[1;33m]\u001b[0m\u001b[1;33m)\u001b[0m\u001b[1;33m\u001b[0m\u001b[1;33m\u001b[0m\u001b[0m\n\u001b[0;32m     16\u001b[0m         \u001b[1;32mif\u001b[0m\u001b[1;33m(\u001b[0m\u001b[0mx\u001b[0m\u001b[1;33m!=\u001b[0m\u001b[1;33m-\u001b[0m\u001b[1;36m1\u001b[0m\u001b[1;33m)\u001b[0m\u001b[1;33m:\u001b[0m\u001b[1;33m\u001b[0m\u001b[1;33m\u001b[0m\u001b[0m\n\u001b[1;32m---> 17\u001b[1;33m             \u001b[0mtable\u001b[0m\u001b[1;33m[\u001b[0m\u001b[0mx\u001b[0m\u001b[1;33m]\u001b[0m \u001b[1;33m+=\u001b[0m \u001b[1;36m1\u001b[0m\u001b[1;33m\u001b[0m\u001b[1;33m\u001b[0m\u001b[0m\n\u001b[0m\u001b[0;32m     18\u001b[0m             \u001b[1;32mif\u001b[0m\u001b[1;33m(\u001b[0m\u001b[0mtable\u001b[0m\u001b[1;33m[\u001b[0m\u001b[0mx\u001b[0m\u001b[1;33m]\u001b[0m\u001b[1;33m%\u001b[0m\u001b[1;36m2\u001b[0m\u001b[1;33m==\u001b[0m\u001b[1;36m1\u001b[0m\u001b[1;33m)\u001b[0m\u001b[1;33m:\u001b[0m\u001b[1;33m\u001b[0m\u001b[1;33m\u001b[0m\u001b[0m\n\u001b[0;32m     19\u001b[0m                 \u001b[0mcountOdd\u001b[0m \u001b[1;33m+=\u001b[0m \u001b[1;36m1\u001b[0m\u001b[1;33m\u001b[0m\u001b[1;33m\u001b[0m\u001b[0m\n",
      "\u001b[1;31mIndexError\u001b[0m: list index out of range"
     ]
    }
   ],
   "source": [
    "def getCharNumber(let):\n",
    "    a = ord('a')\n",
    "    z = ord('z')\n",
    "    val = ord(let)\n",
    "    if(a<=val&val<=z):\n",
    "        return val-a\n",
    "    return -1\n",
    "\n",
    "\n",
    "def isPermutationofPalindrome1(phrase):\n",
    "    countOdd = 0\n",
    "    c = list(phrase)\n",
    "    table = [ord('z')-ord('a')+2]\n",
    "    for i in range(0,len(c)):\n",
    "        x = getCharNumber(c[i])\n",
    "        if(x!=-1):\n",
    "            table[x] += 1\n",
    "            if(table[x]%2==1):    \n",
    "                countOdd += 1\n",
    "            else:\n",
    "                countOdd -= 1\n",
    "    return countOdd <= 1        \n",
    "\n",
    "\n",
    "\n",
    "if __name__ == '__main__':\n",
    "    str1 = \"aba\"\n",
    "    if(isPermutationofPalindrome1(str1)):\n",
    "        print(\"yes\")\n",
    "    else:\n",
    "        print(\"no\")\n",
    "     \n",
    "    str2 = \"geeksogeeks\"\n",
    "    if(isPermutationofPalindrome1(str2)):\n",
    "        print(\"yes\")\n",
    "    else:\n",
    "        print(\"no\")"
   ]
  },
  {
   "cell_type": "code",
   "execution_count": 1,
   "metadata": {},
   "outputs": [
    {
     "name": "stdout",
     "output_type": "stream",
     "text": [
      "no\n",
      "no\n"
     ]
    }
   ],
   "source": [
    "def isPermutationofPalindrome(st):\n",
    "    bitVector = createBitVector(st)\n",
    "    return (bitVector == 0 | checkExactlyOneBitSet(bitVector))\n",
    "\n",
    "def createBitVector(st):\n",
    "    bitVector = 0\n",
    "    c = list(st)\n",
    "    for i in range(0,len(c)):\n",
    "        x = getCharNumber(st[i])\n",
    "        bitVector = toggle(bitVector,x)\n",
    "    return bitVector\n",
    "\n",
    "\n",
    "def getCharNumber(let):\n",
    "    a = ord('a')\n",
    "    z = ord('z')\n",
    "    val = ord(let)\n",
    "    if(a<=val&val<=z):\n",
    "        return val-a\n",
    "    return -1\n",
    "\n",
    "\n",
    "def toggle(bitVector,index):\n",
    "    if index<0: return False\n",
    "    \n",
    "    mask = 1<<index\n",
    "    if((bitVector&mask)==0):\n",
    "        bitVector |= mask\n",
    "    else:\n",
    "        bitVector &= ~mask\n",
    "        \n",
    "    return bitVector\n",
    "\n",
    "\n",
    "def checkExactlyOneBitSet(bitVector):\n",
    "    return (bitVector & (bitVector-1)) == 0\n",
    "    \n",
    "\n",
    "if __name__ == '__main__':\n",
    "    str1 = \"geeksforgeeks\"\n",
    "    if(isPermutationofPalindrome(str1)):\n",
    "        print(\"yes\")\n",
    "    else:\n",
    "        print(\"no\")\n",
    "     \n",
    "    str2 = \"geeksogeeks\"\n",
    "    if(isPermutationofPalindrome(str2)):\n",
    "        print(\"yes\")\n",
    "    else:\n",
    "        print(\"no\")    \n",
    "    \n",
    "    \n"
   ]
  },
  {
   "cell_type": "code",
   "execution_count": null,
   "metadata": {},
   "outputs": [],
   "source": []
  },
  {
   "cell_type": "code",
   "execution_count": null,
   "metadata": {},
   "outputs": [],
   "source": []
  }
 ],
 "metadata": {
  "kernelspec": {
   "display_name": "Python 3",
   "language": "python",
   "name": "python3"
  },
  "language_info": {
   "codemirror_mode": {
    "name": "ipython",
    "version": 3
   },
   "file_extension": ".py",
   "mimetype": "text/x-python",
   "name": "python",
   "nbconvert_exporter": "python",
   "pygments_lexer": "ipython3",
   "version": "3.7.4"
  }
 },
 "nbformat": 4,
 "nbformat_minor": 4
}
