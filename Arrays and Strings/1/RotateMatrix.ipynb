{
 "cells": [
  {
   "cell_type": "code",
   "execution_count": 2,
   "metadata": {},
   "outputs": [
    {
     "name": "stdout",
     "output_type": "stream",
     "text": [
      "4\n",
      "2\n",
      "13 9 5 1  \n",
      "14 10 6 2  \n",
      "15 11 7 3  \n",
      "16 12 8 4  \n"
     ]
    }
   ],
   "source": [
    "def rotateMatrix(mat):\n",
    "    \n",
    "    N = len(mat)\n",
    "    print(N)\n",
    "    n = int(N/2)\n",
    "    print(n)\n",
    "    \n",
    "    for i in range(0,n):\n",
    "        first = i\n",
    "        last = N-1-i\n",
    "        for j in range(first,last):\n",
    "          \n",
    "            offset=j-first\n",
    "            \n",
    "            top = mat[first][j]\n",
    "            \n",
    "            mat[first][j] = mat[last-offset][first]\n",
    "            \n",
    "            mat[last-offset][first] = mat[last][last-offset]\n",
    "            \n",
    "            mat[last][last-offset] = mat[j][last]\n",
    "            \n",
    "            mat[j][last] = top\n",
    "            \n",
    "    return True\n",
    "\n",
    "def displayMatrix(mat):\n",
    "    \n",
    "    for i in range(0,len(mat)):\n",
    "        \n",
    "        for j in range(0,len(mat)):\n",
    "            \n",
    "            print(mat[i][j],end = ' ')\n",
    "        print(\" \")  \n",
    "\n",
    "if __name__ == '__main__':\n",
    "    \n",
    "    \n",
    "    \n",
    "    mat = [[1, 2, 3, 4],\n",
    "           [5, 6, 7, 8],\n",
    "           [9, 10, 11, 12],\n",
    "           [13, 14, 15, 16]]\n",
    "    \n",
    "    rotateMatrix(mat)\n",
    "    \n",
    "    displayMatrix(mat)"
   ]
  },
  {
   "cell_type": "code",
   "execution_count": 14,
   "metadata": {},
   "outputs": [
    {
     "name": "stdout",
     "output_type": "stream",
     "text": [
      "4 8 12 16  \n",
      "3 7 11 15  \n",
      "2 6 10 14  \n",
      "1 5 9 13  \n"
     ]
    }
   ],
   "source": [
    "\n",
    "\n",
    "def rotateMatrixNonClockwise(matrix):\n",
    "    \n",
    "    n = int(len(matrix))\n",
    "    \n",
    "    for i in range(0,int(n/2)):\n",
    "        \n",
    "        for j in range(i,n-i-1):\n",
    "            \n",
    "            temp = matrix[i][j]\n",
    "            \n",
    "            matrix[i][j] = matrix[j][n-i-1]\n",
    "            \n",
    "            matrix[j][n-i-1] = matrix[n-1-i][n-1-j]\n",
    "            \n",
    "            matrix[n-1-i][n-1-j] = matrix[n-1-j][i]\n",
    "            \n",
    "            matrix[n-1-j][i] = temp\n",
    "            \n",
    "    return True\n",
    "\n",
    "def displayMatrix2(matrix):\n",
    "    \n",
    "     for i in range(0,len(mat)):\n",
    "        \n",
    "        for j in range(0,len(mat)):\n",
    "            \n",
    "            print(mat[i][j],end = ' ')\n",
    "        print(\" \")  \n",
    "\n",
    "\n",
    "if __name__ == '__main__':\n",
    "    \n",
    "    \n",
    "     mat = [[1, 2, 3, 4],\n",
    "           [5, 6, 7, 8],\n",
    "           [9, 10, 11, 12],\n",
    "           [13, 14, 15, 16]]\n",
    "    \n",
    "     rotateMatrixNonClockwise(mat)\n",
    "    \n",
    "     displayMatrix2(mat)\n",
    "    "
   ]
  },
  {
   "cell_type": "code",
   "execution_count": null,
   "metadata": {},
   "outputs": [],
   "source": []
  }
 ],
 "metadata": {
  "kernelspec": {
   "display_name": "Python 3",
   "language": "python",
   "name": "python3"
  },
  "language_info": {
   "codemirror_mode": {
    "name": "ipython",
    "version": 3
   },
   "file_extension": ".py",
   "mimetype": "text/x-python",
   "name": "python",
   "nbconvert_exporter": "python",
   "pygments_lexer": "ipython3",
   "version": "3.7.4"
  }
 },
 "nbformat": 4,
 "nbformat_minor": 4
}
