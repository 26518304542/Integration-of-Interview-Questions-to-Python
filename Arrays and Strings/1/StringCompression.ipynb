{
 "cells": [
  {
   "cell_type": "code",
   "execution_count": 20,
   "metadata": {},
   "outputs": [
    {
     "ename": "IndentationError",
     "evalue": "unindent does not match any outer indentation level (<tokenize>, line 7)",
     "output_type": "error",
     "traceback": [
      "\u001b[1;36m  File \u001b[1;32m\"<tokenize>\"\u001b[1;36m, line \u001b[1;32m7\u001b[0m\n\u001b[1;33m    for i in range(0,len(cstr1)-1):\u001b[0m\n\u001b[1;37m    ^\u001b[0m\n\u001b[1;31mIndentationError\u001b[0m\u001b[1;31m:\u001b[0m unindent does not match any outer indentation level\n"
     ]
    }
   ],
   "source": [
    "def stringCompression(str1):\n",
    "  \n",
    "     compressedString = \" \"\n",
    "     countConsecutive = 0\n",
    "     cstr1 = list(str1)\n",
    "     \n",
    "    for i in range(0,len(cstr1)-1):\n",
    "       countConsecutive += 1\n",
    "       if((i+1)>=len(cstr1)-1|(cstr1[i]!=cstr1[i+1])):\n",
    "        compressedString = cs + \"\" + cstr1[i] + str(countConsecutive)\n",
    "        countConsecutive = 0   \n",
    "        cs =  compressedString\n",
    "            \n",
    "    if(len(compressedString)>=len(str1)):\n",
    "        return str1\n",
    "    else:\n",
    "        return compressedString\n",
    "        \n",
    "    \n",
    "    \n",
    "   \n",
    " if __name__ == '__main__':\n",
    "    \n",
    "    str1 = \"aaabbbaa\"\n",
    "    \n",
    "    fs = stringCompression(str1)\n",
    "    \n",
    "    \n",
    "    print(fs)"
   ]
  },
  {
   "cell_type": "code",
   "execution_count": 58,
   "metadata": {},
   "outputs": [
    {
     "name": "stdout",
     "output_type": "stream",
     "text": [
      "10\n",
      "10\n"
     ]
    }
   ],
   "source": [
    "num = 10\n",
    "  \n",
    "# check  and print type of num variable\n",
    "print(num) \n",
    "  \n",
    "# convert the num into string\n",
    "converted_num = str(num)\n",
    "  \n",
    "# check  and print type converted_num variable\n",
    "print(converted_num)"
   ]
  },
  {
   "cell_type": "code",
   "execution_count": 34,
   "metadata": {},
   "outputs": [
    {
     "name": "stdout",
     "output_type": "stream",
     "text": [
      "ab3a6c2da3b\n"
     ]
    }
   ],
   "source": [
    "def solve(s):\n",
    "    res = \"\"\n",
    "    cnt = 1\n",
    "    for i in range(1,len(s)):\n",
    "        if(s[i-1]==s[i]):\n",
    "            cnt += 1\n",
    "        else:\n",
    "            res = res + s[i-1]\n",
    "            if cnt > 1:\n",
    "                res = res + str(cnt)\n",
    "            cnt = 1\n",
    "    res = res + s[-1]\n",
    "    if cnt>1:\n",
    "        res += str(cnt)\n",
    "    return res\n",
    "    \n",
    "s = \"abbbaaaaaaccdaaab\"    \n",
    "print(solve(s))\n",
    "    "
   ]
  },
  {
   "cell_type": "code",
   "execution_count": 31,
   "metadata": {},
   "outputs": [
    {
     "name": "stdout",
     "output_type": "stream",
     "text": [
      "ab3a6c2da3b\n"
     ]
    }
   ],
   "source": [
    "def solve(s):\n",
    "    res = \"\"\n",
    "    cnt = 1\n",
    "    for i in range(1, len(s)):\n",
    "        if s[i - 1] == s[i]:\n",
    "            cnt += 1\n",
    "        else:\n",
    "            res = res + s[i - 1]\n",
    "            if cnt > 1:\n",
    "                res += str(cnt)\n",
    "            cnt = 1\n",
    "    res = res + s[-1]\n",
    "    if cnt > 1:\n",
    "        res += str(cnt)\n",
    "    return res\n",
    "\n",
    "s = \"abbbaaaaaaccdaaab\"\n",
    "print(solve(s))"
   ]
  },
  {
   "cell_type": "code",
   "execution_count": null,
   "metadata": {},
   "outputs": [],
   "source": []
  }
 ],
 "metadata": {
  "kernelspec": {
   "display_name": "Python 3",
   "language": "python",
   "name": "python3"
  },
  "language_info": {
   "codemirror_mode": {
    "name": "ipython",
    "version": 3
   },
   "file_extension": ".py",
   "mimetype": "text/x-python",
   "name": "python",
   "nbconvert_exporter": "python",
   "pygments_lexer": "ipython3",
   "version": "3.7.4"
  }
 },
 "nbformat": 4,
 "nbformat_minor": 4
}
