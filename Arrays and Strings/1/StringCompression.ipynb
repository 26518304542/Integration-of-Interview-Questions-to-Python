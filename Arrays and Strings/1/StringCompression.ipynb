{
 "cells": [
  {
   "cell_type": "code",
   "execution_count": 34,
   "metadata": {},
   "outputs": [
    {
     "name": "stdout",
     "output_type": "stream",
     "text": [
      "ab3a6c2da3b\n"
     ]
    }
   ],
   "source": [
    "def solve(s):\n",
    "    res = \"\"\n",
    "    cnt = 1\n",
    "    for i in range(1,len(s)):\n",
    "        if(s[i-1]==s[i]):\n",
    "            cnt += 1\n",
    "        else:\n",
    "            res = res + s[i-1]\n",
    "            if cnt > 1:\n",
    "                res = res + str(cnt)\n",
    "            cnt = 1\n",
    "    res = res + s[-1]\n",
    "    if cnt>1:\n",
    "        res += str(cnt)\n",
    "    return res\n",
    "    \n",
    "s = \"abbbaaaaaaccdaaab\"    \n",
    "print(solve(s))\n",
    "    "
   ]
  },
  {
   "cell_type": "code",
   "execution_count": 31,
   "metadata": {},
   "outputs": [
    {
     "name": "stdout",
     "output_type": "stream",
     "text": [
      "ab3a6c2da3b\n"
     ]
    }
   ],
   "source": [
    "def solve(s):\n",
    "    res = \"\"\n",
    "    cnt = 1\n",
    "    for i in range(1, len(s)):\n",
    "        if s[i - 1] == s[i]:\n",
    "            cnt += 1\n",
    "        else:\n",
    "            res = res + s[i - 1]\n",
    "            if cnt > 1:\n",
    "                res += str(cnt)\n",
    "            cnt = 1\n",
    "    res = res + s[-1]\n",
    "    if cnt > 1:\n",
    "        res += str(cnt)\n",
    "    return res\n",
    "\n",
    "s = \"abbbaaaaaaccdaaab\"\n",
    "print(solve(s))"
   ]
  },
  {
   "cell_type": "code",
   "execution_count": null,
   "metadata": {},
   "outputs": [],
   "source": []
  }
 ],
 "metadata": {
  "kernelspec": {
   "display_name": "Python 3",
   "language": "python",
   "name": "python3"
  },
  "language_info": {
   "codemirror_mode": {
    "name": "ipython",
    "version": 3
   },
   "file_extension": ".py",
   "mimetype": "text/x-python",
   "name": "python",
   "nbconvert_exporter": "python",
   "pygments_lexer": "ipython3",
   "version": "3.7.4"
  }
 },
 "nbformat": 4,
 "nbformat_minor": 4
}
