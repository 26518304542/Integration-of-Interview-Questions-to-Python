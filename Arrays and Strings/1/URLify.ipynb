{
 "cells": [
  {
   "cell_type": "code",
   "execution_count": 1,
   "metadata": {},
   "outputs": [
    {
     "name": "stdout",
     "output_type": "stream",
     "text": [
      "a%20b\n"
     ]
    }
   ],
   "source": [
    "\n",
    "\n",
    "\n",
    "\n",
    "\n",
    "\n",
    "MAX = 1000\n",
    "\n",
    "def replaceSpaces(string):\n",
    "    \n",
    "    string = string.strip()\n",
    "    \n",
    "    i = len(string)\n",
    "    \n",
    "    space_count = string.count(' ')\n",
    "    \n",
    "    new_length = i + space_count*2\n",
    "    \n",
    "    if(new_length>MAX):\n",
    "        return 0\n",
    "    \n",
    "    index = new_length - 1\n",
    "    \n",
    "    string = list(string)\n",
    "    \n",
    "    \n",
    "    for f in range(i-2,new_length-2):\n",
    "        string.append('0')\n",
    "     \n",
    "    for j in range(i-1,0,-1):\n",
    "        \n",
    "        if(string[j]==(' ')):\n",
    "            string[index] = '0'\n",
    "            string[index-1] = '2'\n",
    "            string[index-2] = '%'\n",
    "        else:\n",
    "            string[index] = string[j]\n",
    "            index -= 1\n",
    "            \n",
    "    return ''.join(string) \n",
    "\n",
    "\n",
    "if __name__ == '__main__':\n",
    "    s = \"a b\"\n",
    "    s = replaceSpaces(s)\n",
    "    print(s)\n",
    "    "
   ]
  },
  {
   "cell_type": "code",
   "execution_count": 6,
   "metadata": {},
   "outputs": [
    {
     "name": "stdout",
     "output_type": "stream",
     "text": [
      "a%20b\n"
     ]
    }
   ],
   "source": [
    "\n",
    "def replaceSpaces(input):\n",
    "    rep = '%20'\n",
    "    \n",
    "    for i in range(len(input)):\n",
    "        if(input[i]==' '):\n",
    "            input = input.replace(input[i],rep)\n",
    "    \n",
    "    print(input)\n",
    "\n",
    "\n",
    "\n",
    "if __name__ == '__main__':\n",
    "    input = \"a b\"\n",
    "    replaceSpaces(input)\n",
    "    "
   ]
  },
  {
   "cell_type": "code",
   "execution_count": 7,
   "metadata": {},
   "outputs": [
    {
     "name": "stdout",
     "output_type": "stream",
     "text": [
      "Mr%20John%20Smith\n"
     ]
    }
   ],
   "source": [
    "s = \"Mr John Smith\"\n",
    "\n",
    "s = s.strip()\n",
    "\n",
    "s = s.replace(' ',\"%20\")\n",
    "\n",
    "print(s)"
   ]
  },
  {
   "cell_type": "code",
   "execution_count": null,
   "metadata": {},
   "outputs": [],
   "source": []
  }
 ],
 "metadata": {
  "kernelspec": {
   "display_name": "Python 3",
   "language": "python",
   "name": "python3"
  },
  "language_info": {
   "codemirror_mode": {
    "name": "ipython",
    "version": 3
   },
   "file_extension": ".py",
   "mimetype": "text/x-python",
   "name": "python",
   "nbconvert_exporter": "python",
   "pygments_lexer": "ipython3",
   "version": "3.7.4"
  }
 },
 "nbformat": 4,
 "nbformat_minor": 4
}
