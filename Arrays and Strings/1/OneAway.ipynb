{
 "cells": [
  {
   "cell_type": "code",
   "execution_count": 2,
   "metadata": {},
   "outputs": [
    {
     "name": "stdout",
     "output_type": "stream",
     "text": [
      "one edit insert:first one is larger\n",
      "Ok\n"
     ]
    }
   ],
   "source": [
    "def oneEditAway(str1,str2):\n",
    "    if(len(str1)==len(str2)):\n",
    "        return oneEditReplace(str1,str2)\n",
    "    elif(len(str1)+1==len(str2)):\n",
    "        print(\"one edit insert:second one is larger\")\n",
    "        return oneEditInsert(str1,str2)\n",
    "    elif(len(str1)-1==len(str2)):\n",
    "        print(\"one edit insert:first one is larger\")\n",
    "        return oneEditInsert(str2,str1)\n",
    "    return False\n",
    "\n",
    "def oneEditReplace(str1,str2):\n",
    "    print(\"one edit replace\")\n",
    "    foundDifference = False\n",
    "    str1 = list(str1)\n",
    "    str2 = list(str2)\n",
    "    for i in range(0,len(str1)):\n",
    "        if(str1[i]!=str2[i]):\n",
    "            if(foundDifference):\n",
    "                return False\n",
    "            foundDifference = True\n",
    "    return True\n",
    "\n",
    "def oneEditInsert(s1,s2):\n",
    "    \n",
    "    s1 = list(s1)\n",
    "    s2 = list(s2)\n",
    "    index1 = 0\n",
    "    index2 = 0\n",
    "    while(index1<len(s1)&index2<len(s2)):\n",
    "        if(s1[index1]!=s2[index2]):\n",
    "            if(index1!=index2):\n",
    "                return False\n",
    "            index2 += 1\n",
    "        else:\n",
    "            index1 += 1\n",
    "            index2 += 1\n",
    "    return True\n",
    "\n",
    "if __name__ == '__main__':\n",
    "    in1 = \"apple\"\n",
    "    in2 = \"aple\"\n",
    "    dec = oneEditAway(in1,in2)\n",
    "    if(dec):\n",
    "        print(\"Ok\")\n",
    "    else:\n",
    "        print(\"No\")"
   ]
  },
  {
   "cell_type": "code",
   "execution_count": 2,
   "metadata": {},
   "outputs": [
    {
     "name": "stdout",
     "output_type": "stream",
     "text": [
      "Yes\n"
     ]
    }
   ],
   "source": [
    "\n",
    "def isEditDistanceOne(s1,s2):\n",
    "    \n",
    "    m = len(s1)\n",
    "    n = len(s2)\n",
    "    \n",
    "    if(abs(m-n)>1):\n",
    "        return False\n",
    "    count = 0\n",
    "    i=0\n",
    "    j=0\n",
    "    \n",
    "    while i<m and j<n:\n",
    "        if(s1[i]!=s2[i]):\n",
    "            if count == 1:\n",
    "                return False\n",
    "            if m>n:\n",
    "                i += 1\n",
    "            elif m<n:\n",
    "                j += 1\n",
    "            else:\n",
    "                i += 1\n",
    "                j += 1\n",
    "            count += 1\n",
    "        else:\n",
    "            i += 1\n",
    "            j += 1\n",
    "        \n",
    "    if i<m or j<n:\n",
    "         count += 1\n",
    "    return count == 1    \n",
    "        \n",
    "s1 = \"gg\"\n",
    "s2 = \"gf\"\n",
    "if isEditDistanceOne(s1, s2):\n",
    "    print (\"Yes\")\n",
    "else:\n",
    "    print (\"No\")    \n",
    "    "
   ]
  }
 ],
 "metadata": {
  "kernelspec": {
   "display_name": "Python 3",
   "language": "python",
   "name": "python3"
  },
  "language_info": {
   "codemirror_mode": {
    "name": "ipython",
    "version": 3
   },
   "file_extension": ".py",
   "mimetype": "text/x-python",
   "name": "python",
   "nbconvert_exporter": "python",
   "pygments_lexer": "ipython3",
   "version": "3.7.4"
  }
 },
 "nbformat": 4,
 "nbformat_minor": 4
}
