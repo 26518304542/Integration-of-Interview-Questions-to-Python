{
 "cells": [
  {
   "cell_type": "code",
   "execution_count": 1,
   "metadata": {},
   "outputs": [
    {
     "name": "stdout",
     "output_type": "stream",
     "text": [
      "2\n"
     ]
    }
   ],
   "source": [
    "def find_mid(param1, param2, param3):\n",
    "    \n",
    "    if param1>param2:\n",
    "        if param1>param3:\n",
    "            return find_mid(param3,param2,param1)\n",
    "        else:\n",
    "            return param1\n",
    "    else:\n",
    "        return find_mid(param2,param3,param1)\n",
    "        \n",
    "\n",
    "\n",
    "n=find_mid(9,1,2)\n",
    "print(n)\n"
   ]
  },
  {
   "cell_type": "code",
   "execution_count": null,
   "metadata": {},
   "outputs": [],
   "source": []
  }
 ],
 "metadata": {
  "kernelspec": {
   "display_name": "Python 3",
   "language": "python",
   "name": "python3"
  },
  "language_info": {
   "codemirror_mode": {
    "name": "ipython",
    "version": 3
   },
   "file_extension": ".py",
   "mimetype": "text/x-python",
   "name": "python",
   "nbconvert_exporter": "python",
   "pygments_lexer": "ipython3",
   "version": "3.7.4"
  }
 },
 "nbformat": 4,
 "nbformat_minor": 4
}
