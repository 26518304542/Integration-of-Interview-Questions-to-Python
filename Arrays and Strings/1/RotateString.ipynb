{
 "cells": [
  {
   "cell_type": "code",
   "execution_count": 2,
   "metadata": {},
   "outputs": [
    {
     "ename": "IndentationError",
     "evalue": "expected an indented block (<ipython-input-2-f64895f62059>, line 24)",
     "output_type": "error",
     "traceback": [
      "\u001b[1;36m  File \u001b[1;32m\"<ipython-input-2-f64895f62059>\"\u001b[1;36m, line \u001b[1;32m24\u001b[0m\n\u001b[1;33m    return True\u001b[0m\n\u001b[1;37m    ^\u001b[0m\n\u001b[1;31mIndentationError\u001b[0m\u001b[1;31m:\u001b[0m expected an indented block\n"
     ]
    }
   ],
   "source": [
    "def rotateString(s1,s2):\n",
    "    \n",
    "    c1 = list(s1)\n",
    "    c2 = list(s2)\n",
    "    \n",
    "    \n",
    "    if(len(c1)>len(c2)):\n",
    "        n1 = len(c1)\n",
    "        n = n1\n",
    "    elif(len(c2)>len(c1)):\n",
    "        n2 = len(c2)\n",
    "        n = n2\n",
    "    \n",
    "       \n",
    "        \n",
    "    \n",
    "    for i in range(0,n):\n",
    "        if(c1[i]==c2[i]):\n",
    "             if(c1[i+1]==c2[i+1]):\n",
    "                    if(c1[i+2]!=c2[i+2]):\n",
    "                        \n",
    "               \n",
    "         \n",
    "    return True\n",
    "\n",
    "\n",
    "\n",
    "\n",
    "\n",
    "if __name__ == '__main__':\n",
    "    \n",
    "    s1 = \"water\"\n",
    "    s2 = \"wat\"\n",
    "    \n",
    "    rotateString(s1,s2)\n"
   ]
  },
  {
   "cell_type": "code",
   "execution_count": null,
   "metadata": {},
   "outputs": [],
   "source": []
  }
 ],
 "metadata": {
  "kernelspec": {
   "display_name": "Python 3",
   "language": "python",
   "name": "python3"
  },
  "language_info": {
   "codemirror_mode": {
    "name": "ipython",
    "version": 3
   },
   "file_extension": ".py",
   "mimetype": "text/x-python",
   "name": "python",
   "nbconvert_exporter": "python",
   "pygments_lexer": "ipython3",
   "version": "3.7.4"
  }
 },
 "nbformat": 4,
 "nbformat_minor": 4
}
