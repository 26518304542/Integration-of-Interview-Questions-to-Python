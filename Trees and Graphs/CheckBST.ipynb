{
 "cells": [
  {
   "cell_type": "code",
   "execution_count": 1,
   "metadata": {},
   "outputs": [
    {
     "name": "stdout",
     "output_type": "stream",
     "text": [
      "True\n"
     ]
    }
   ],
   "source": [
    "class Node:\n",
    "    def __init__(self,data):\n",
    "        self.data = data\n",
    "        self.right = None\n",
    "        self.left = None\n",
    "        \n",
    "\n",
    "class BST:\n",
    "    def __init__(self):\n",
    "        self.root = None\n",
    "        \n",
    "    def checkBST(self,node):\n",
    "        \n",
    "        if node == None:\n",
    "            return True\n",
    "        \n",
    "        if node.left!=None and node.data<node.left.data:\n",
    "            return False\n",
    "        \n",
    "        if node.right!=None and node.data>node.right.data:\n",
    "            return False\n",
    "        \n",
    "        if((not self.checkBST(node.left)) or (not self.checkBST(node.right))):\n",
    "            return False\n",
    "            \n",
    "        return True    \n",
    "            \n",
    "    \n",
    "b = BST()\n",
    "b.root = Node(5)\n",
    "l = b.root.left = Node(2)\n",
    "r = b.root.right = Node(6)\n",
    "r.right = Node(8)\n",
    "r.left = Node(4)\n",
    "l.left = Node(1)\n",
    "l.right = Node(3)\n",
    "\n",
    "if b.checkBST(b.root):\n",
    "    print(\"True\")\n",
    "else:\n",
    "    print(\"False\")\n",
    "        \n",
    "        "
   ]
  },
  {
   "cell_type": "code",
   "execution_count": 35,
   "metadata": {},
   "outputs": [
    {
     "name": "stdout",
     "output_type": "stream",
     "text": [
      "3\n",
      "1\n",
      "5\n",
      "prev\n",
      "1\n",
      "3\n",
      "1\n",
      "5\n",
      "prev\n",
      "1\n",
      "False\n",
      "Not a BST\n"
     ]
    }
   ],
   "source": []
  },
  {
   "cell_type": "code",
   "execution_count": 29,
   "metadata": {},
   "outputs": [
    {
     "ename": "TabError",
     "evalue": "inconsistent use of tabs and spaces in indentation (<ipython-input-29-648036b6b9ab>, line 51)",
     "output_type": "error",
     "traceback": [
      "\u001b[1;36m  File \u001b[1;32m\"<ipython-input-29-648036b6b9ab>\"\u001b[1;36m, line \u001b[1;32m51\u001b[0m\n\u001b[1;33m    a = isBST(root)\u001b[0m\n\u001b[1;37m                   ^\u001b[0m\n\u001b[1;31mTabError\u001b[0m\u001b[1;31m:\u001b[0m inconsistent use of tabs and spaces in indentation\n"
     ]
    }
   ],
   "source": []
  },
  {
   "cell_type": "code",
   "execution_count": null,
   "metadata": {},
   "outputs": [],
   "source": []
  }
 ],
 "metadata": {
  "kernelspec": {
   "display_name": "Python 3",
   "language": "python",
   "name": "python3"
  },
  "language_info": {
   "codemirror_mode": {
    "name": "ipython",
    "version": 3
   },
   "file_extension": ".py",
   "mimetype": "text/x-python",
   "name": "python",
   "nbconvert_exporter": "python",
   "pygments_lexer": "ipython3",
   "version": "3.7.4"
  }
 },
 "nbformat": 4,
 "nbformat_minor": 4
}
