{
 "cells": [
  {
   "cell_type": "code",
   "execution_count": 1,
   "metadata": {},
   "outputs": [
    {
     "name": "stdout",
     "output_type": "stream",
     "text": [
      "True\n"
     ]
    }
   ],
   "source": [
    "class Node:\n",
    "    def __init__(self,data):\n",
    "        self.data = data\n",
    "        self.right = None\n",
    "        self.left = None\n",
    "        \n",
    "\n",
    "class BST:\n",
    "    def __init__(self):\n",
    "        self.root = None\n",
    "        \n",
    "    def checkBST(self,node):\n",
    "        \n",
    "        if node == None:\n",
    "            return True\n",
    "        \n",
    "        if node.left!=None and node.data<node.left.data:\n",
    "            return False\n",
    "        \n",
    "        if node.right!=None and node.data>node.right.data:\n",
    "            return False\n",
    "        \n",
    "        if((not self.checkBST(node.left)) or (not self.checkBST(node.right))):\n",
    "            return False\n",
    "            \n",
    "        return True    \n",
    "            \n",
    "    \n",
    "b = BST()\n",
    "b.root = Node(5)\n",
    "l = b.root.left = Node(2)\n",
    "r = b.root.right = Node(6)\n",
    "r.right = Node(8)\n",
    "r.left = Node(4)\n",
    "l.left = Node(1)\n",
    "l.right = Node(3)\n",
    "\n",
    "if b.checkBST(b.root):\n",
    "    print(\"True\")\n",
    "else:\n",
    "    print(\"False\")\n",
    "        \n",
    "        "
   ]
  }
 ],
 "metadata": {
  "kernelspec": {
   "display_name": "Python 3",
   "language": "python",
   "name": "python3"
  },
  "language_info": {
   "codemirror_mode": {
    "name": "ipython",
    "version": 3
   },
   "file_extension": ".py",
   "mimetype": "text/x-python",
   "name": "python",
   "nbconvert_exporter": "python",
   "pygments_lexer": "ipython3",
   "version": "3.7.4"
  }
 },
 "nbformat": 4,
 "nbformat_minor": 4
}
