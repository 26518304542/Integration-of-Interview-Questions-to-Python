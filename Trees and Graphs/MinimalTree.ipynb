{
 "cells": [
  {
   "cell_type": "code",
   "execution_count": 4,
   "metadata": {},
   "outputs": [
    {
     "name": "stdout",
     "output_type": "stream",
     "text": [
      "0\t1\t2\t3\t4\t5\t6\t7\t8\t9\t10\t11\t"
     ]
    }
   ],
   "source": [
    "class Array:\n",
    "    def __init__(self,capacity):\n",
    "        self.capacity = capacity\n",
    "        self.sorted_Array = self.capacity*[0]\n",
    "        self.last = 0\n",
    "        \n",
    "    def insert(self,data):\n",
    "        i = 0\n",
    "        if self.last == self.capacity-1:\n",
    "            self.sorted_Array += self.capacity*[0]\n",
    "            \n",
    "        self.sorted_Array[self.last] = data\n",
    "        self.last += 1\n",
    "        \n",
    "        \"\"\"\n",
    "        while i<self.last:\n",
    "            if data<self.sorted_Array[i+1] and data>self.sorted_Array[i]:\n",
    "                while i<self.last:\n",
    "                    temp = i+1\n",
    "                    self.sorted_Array[i+2] = self.sorted_Array[i+1]\n",
    "                    i+=1\n",
    "                self.sorted_Array[temp] = data\n",
    "            i += 1    \n",
    "        self.last += 1\n",
    "        \"\"\"\n",
    "        \n",
    "        \n",
    "    def pop(self):\n",
    "        pop_element = self.sorted_Array[self.last-1]  \n",
    "        self.sorted_Array[self.last-1] = 0\n",
    "        self.sorted_Array -= [0]\n",
    "        self.last -= 1\n",
    "       \n",
    "    def printlist(self):\n",
    "        i = 0\n",
    "        while i<self.last:\n",
    "            print(self.sorted_Array[i],end=\"\\t\")\n",
    "            i += 1\n",
    "            \n",
    "    def create_BST(self,mid,array):\n",
    "        \n",
    "        mid = len(array)/2\n",
    "        \n",
    "        if mid == 0:\n",
    "            return \n",
    "        \n",
    "        \n",
    "            \n",
    "            \n",
    "            \n",
    "            \n",
    "            \n",
    "\n",
    "sa = Array(10)\n",
    "for i in range(0,12):\n",
    "    sa.insert(i)\n",
    "sa.printlist()\n",
    "            \n",
    "            \n",
    "            \n",
    "            \n",
    "            "
   ]
  },
  {
   "cell_type": "code",
   "execution_count": 15,
   "metadata": {},
   "outputs": [
    {
     "name": "stdout",
     "output_type": "stream",
     "text": [
      "4\t2\t1\t3\t6\t5\t7\tPreOrder Traversal of constructed BST  None\n"
     ]
    }
   ],
   "source": [
    "class Node:\n",
    "    def __init__(self,data):\n",
    "        self.data = data\n",
    "        self.right = None\n",
    "        self.left = None\n",
    "        \n",
    "def tun_BST(arr):\n",
    "    \n",
    "    if not arr:\n",
    "        return None\n",
    "    \n",
    "    mid = len(arr)//2\n",
    "    \n",
    "    root = Node(arr[mid])\n",
    "    \n",
    "    root.left = tun_BST(arr[:mid])\n",
    "    \n",
    "    root.right = tun_BST(arr[mid+1:])\n",
    "    \n",
    "    return root\n",
    "\n",
    "\n",
    "def preOrder(node):\n",
    "    \n",
    "    if not node:\n",
    "        return \n",
    "    \n",
    "    print(node.data,end=\"\\t\")\n",
    "    \n",
    "    preOrder(node.left)\n",
    "    preOrder(node.right)\n",
    "    \n",
    "    \n",
    "arr = [1, 2, 3, 4, 5, 6, 7]\n",
    "root = tun_BST(arr)\n",
    "print(\"PreOrder Traversal of constructed BST \",preOrder(root))    \n",
    "    \n",
    "    \n",
    "    "
   ]
  },
  {
   "cell_type": "code",
   "execution_count": null,
   "metadata": {},
   "outputs": [],
   "source": []
  }
 ],
 "metadata": {
  "kernelspec": {
   "display_name": "Python 3",
   "language": "python",
   "name": "python3"
  },
  "language_info": {
   "codemirror_mode": {
    "name": "ipython",
    "version": 3
   },
   "file_extension": ".py",
   "mimetype": "text/x-python",
   "name": "python",
   "nbconvert_exporter": "python",
   "pygments_lexer": "ipython3",
   "version": "3.7.4"
  }
 },
 "nbformat": 4,
 "nbformat_minor": 4
}
