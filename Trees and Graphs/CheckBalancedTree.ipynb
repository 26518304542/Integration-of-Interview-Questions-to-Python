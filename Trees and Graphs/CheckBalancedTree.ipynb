{
 "cells": [
  {
   "cell_type": "code",
   "execution_count": 1,
   "metadata": {},
   "outputs": [
    {
     "name": "stdout",
     "output_type": "stream",
     "text": [
      "Balanced\n"
     ]
    }
   ],
   "source": [
    "class Node:\n",
    "    def __init__(self,data):\n",
    "        self.data = data\n",
    "        self.left = self.right = None\n",
    "        \n",
    "def isBalanced(root):\n",
    "    \n",
    "    if root == None:\n",
    "        return True\n",
    "    \n",
    "    lh = isBalanced(root.left)\n",
    "    \n",
    "    if lh == -1:\n",
    "        return -1\n",
    "    \n",
    "    rh = isBalanced(root.right)\n",
    "    \n",
    "    if rh == -1:\n",
    "        return -1\n",
    "    \n",
    "    if(abs(rh-lh)>1):\n",
    "        return -1\n",
    "    else:\n",
    "        return max(lh,rh) + 1\n",
    "    \n",
    "    \n",
    "if __name__ == '__main__':\n",
    "    root = Node(10)\n",
    "    root.left = Node(5)\n",
    "    root.right = Node(30)\n",
    "    root.right.left = Node(15)\n",
    "    root.right.right = Node(20)\n",
    "    root.right.right.right = Node(32)\n",
    "    if (isBalanced(root) == -1):\n",
    "        print(\"Not Balanced\")\n",
    "    else:\n",
    "        print(\"Balanced\")    \n",
    "    "
   ]
  },
  {
   "cell_type": "code",
   "execution_count": 1,
   "metadata": {},
   "outputs": [
    {
     "name": "stdout",
     "output_type": "stream",
     "text": [
      "Tree is not balanced\n"
     ]
    }
   ],
   "source": [
    "class Node:\n",
    "    def __init__(self,data):\n",
    "        self.data = data\n",
    "        self.left = None\n",
    "        self.right = None\n",
    "        \n",
    "\n",
    "def height(root):\n",
    "    \n",
    "    if root is None:\n",
    "        return 0\n",
    "    \n",
    "    return(max(height(root.left),height(root.right))+1)\n",
    "\n",
    "\n",
    "def isBalanced(root):\n",
    "    \n",
    "    if root is None:\n",
    "        return True\n",
    "    \n",
    "    lh = height(root.left)\n",
    "    rh = height(root.right)\n",
    "    \n",
    "    if(abs(lh-rh)<=1) and isBalanced(root.left)==True and isBalanced(root.right)==True:\n",
    "        return True\n",
    "    \n",
    "    return False\n",
    "\n",
    "\n",
    "root = Node(1)\n",
    "root.left = Node(2)\n",
    "root.right = Node(3)\n",
    "root.left.left = Node(4)\n",
    "root.left.right = Node(5)\n",
    "root.left.left.left = Node(8)\n",
    "if isBalanced(root):\n",
    "    print(\"Tree is balanced\")\n",
    "else:\n",
    "    print(\"Tree is not balanced\")\n"
   ]
  },
  {
   "cell_type": "code",
   "execution_count": null,
   "metadata": {},
   "outputs": [],
   "source": []
  }
 ],
 "metadata": {
  "kernelspec": {
   "display_name": "Python 3",
   "language": "python",
   "name": "python3"
  },
  "language_info": {
   "codemirror_mode": {
    "name": "ipython",
    "version": 3
   },
   "file_extension": ".py",
   "mimetype": "text/x-python",
   "name": "python",
   "nbconvert_exporter": "python",
   "pygments_lexer": "ipython3",
   "version": "3.7.4"
  }
 },
 "nbformat": 4,
 "nbformat_minor": 4
}
