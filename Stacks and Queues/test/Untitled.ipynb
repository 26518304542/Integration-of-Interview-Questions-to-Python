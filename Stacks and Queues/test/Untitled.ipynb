{
 "cells": [
  {
   "cell_type": "code",
   "execution_count": 42,
   "metadata": {},
   "outputs": [
    {
     "name": "stdout",
     "output_type": "stream",
     "text": [
      "0\n",
      "0\n",
      "\n",
      "1\n",
      "1\n",
      "\n",
      "2\n",
      "2\n",
      "\n",
      "3\n",
      "3\n",
      "\n",
      "4\n",
      "4\n",
      "\n",
      "5\n",
      "5\n",
      "\n",
      "6\n",
      "6\n",
      "\n",
      "7\n",
      "7\n",
      "\n",
      "8\n",
      "8\n",
      "\n"
     ]
    },
    {
     "ename": "AttributeError",
     "evalue": "'Test' object has no attribute 'test2'",
     "output_type": "error",
     "traceback": [
      "\u001b[1;31m---------------------------------------------------------------------------\u001b[0m",
      "\u001b[1;31mAttributeError\u001b[0m                            Traceback (most recent call last)",
      "\u001b[1;32m<ipython-input-42-0fd0d6359ca4>\u001b[0m in \u001b[0;36m<module>\u001b[1;34m\u001b[0m\n\u001b[0;32m     16\u001b[0m \u001b[0mt\u001b[0m \u001b[1;33m=\u001b[0m \u001b[0mTest\u001b[0m\u001b[1;33m(\u001b[0m\u001b[1;33m)\u001b[0m\u001b[1;33m\u001b[0m\u001b[1;33m\u001b[0m\u001b[0m\n\u001b[0;32m     17\u001b[0m \u001b[0mt\u001b[0m\u001b[1;33m.\u001b[0m\u001b[0mtest1\u001b[0m\u001b[1;33m(\u001b[0m\u001b[1;33m)\u001b[0m\u001b[1;33m\u001b[0m\u001b[1;33m\u001b[0m\u001b[0m\n\u001b[1;32m---> 18\u001b[1;33m \u001b[0mt\u001b[0m\u001b[1;33m.\u001b[0m\u001b[0mtest2\u001b[0m\u001b[1;33m(\u001b[0m\u001b[1;33m)\u001b[0m\u001b[1;33m\u001b[0m\u001b[1;33m\u001b[0m\u001b[0m\n\u001b[0m",
      "\u001b[1;31mAttributeError\u001b[0m: 'Test' object has no attribute 'test2'"
     ]
    }
   ],
   "source": [
    "class Test:\n",
    "    def test1(self):\n",
    "        self.stackVal = [0]*3\n",
    "        for i in range(0,3):\n",
    "            for j in range(0,3):\n",
    "                values[j] = j+3*i\n",
    "                self.stackVal[i] = self.values[j]\n",
    "                print(self.stackVal[i])\n",
    "                print(self.values[j])\n",
    "                print()\n",
    "            \n",
    "            \n",
    "   \n",
    "        \n",
    "t = Test()\n",
    "t.test1()\n",
    "t.test2()"
   ]
  },
  {
   "cell_type": "code",
   "execution_count": null,
   "metadata": {},
   "outputs": [],
   "source": []
  }
 ],
 "metadata": {
  "kernelspec": {
   "display_name": "Python 3",
   "language": "python",
   "name": "python3"
  },
  "language_info": {
   "codemirror_mode": {
    "name": "ipython",
    "version": 3
   },
   "file_extension": ".py",
   "mimetype": "text/x-python",
   "name": "python",
   "nbconvert_exporter": "python",
   "pygments_lexer": "ipython3",
   "version": "3.7.4"
  }
 },
 "nbformat": 4,
 "nbformat_minor": 4
}
