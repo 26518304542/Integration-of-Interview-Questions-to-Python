{
 "cells": [
  {
   "cell_type": "code",
   "execution_count": 8,
   "metadata": {},
   "outputs": [
    {
     "name": "stdout",
     "output_type": "stream",
     "text": [
      "n\n",
      "i\n",
      "e\n",
      "l\n",
      "l\n",
      "A\n",
      "There is/are 2  node to last\n"
     ]
    }
   ],
   "source": [
    "class Node:\n",
    "    def __init__(self,data=None):\n",
    "        self.data = data\n",
    "        self.next = None\n",
    "\n",
    "class SLinkedList:\n",
    "    def __init__(self):\n",
    "        self.root = None\n",
    "    \n",
    "    def addNode(self,data):\n",
    "        NewNode = Node(data)\n",
    "        NewNode.next = self.root\n",
    "        self.root = NewNode\n",
    "    \n",
    "    def printlist(self):\n",
    "        it = self.root\n",
    "        while it is not None:\n",
    "            print(it.data)\n",
    "            it = it.next\n",
    "            \n",
    "    def kth_to_last(self,_data):\n",
    "        if self.root == None:\n",
    "            return\n",
    "        it = self.root\n",
    "        count = 0\n",
    "        while it.next is not None:\n",
    "            if it.data == _data:\n",
    "                it = it.next\n",
    "               \n",
    "                break\n",
    "            else:\n",
    "                it = it.next\n",
    "        while it.next is not None:\n",
    "            it = it.next\n",
    "            count += 1\n",
    "        print(\"There is/are\",count,\" node to last\")        \n",
    "                \n",
    "            \n",
    "list = SLinkedList()\n",
    "list.root = Node(\"A\")\n",
    "list.addNode(\"l\")\n",
    "list.addNode(\"l\")\n",
    "list.addNode(\"e\")\n",
    "list.addNode(\"i\")\n",
    "list.addNode(\"n\")\n",
    "\n",
    "list.printlist()\n",
    "\n",
    "list.kth_to_last(\"e\")\n",
    "\n",
    "        "
   ]
  },
  {
   "cell_type": "code",
   "execution_count": 29,
   "metadata": {},
   "outputs": [
    {
     "name": "stdout",
     "output_type": "stream",
     "text": [
      "3\n"
     ]
    }
   ],
   "source": [
    "class Node:\n",
    "    def __init__(self,data=None):\n",
    "        self.data = data\n",
    "        self.next = None\n",
    "        \n",
    "class Last:\n",
    "    def __init__(self):\n",
    "        self.next = None\n",
    "        \n",
    "class SLinkedList:\n",
    "    def __init__(self):\n",
    "        self.root = None\n",
    "    \n",
    "    def addEnd(self,data):\n",
    "        NewNode = Node(data)\n",
    "        it = self.root\n",
    "        while it.next:\n",
    "            it = it.next\n",
    "        it.next = NewNode\n",
    "        Last.next =  it.next\n",
    "        \n",
    "    def kth_to_last(self,data):\n",
    "        it = self.root\n",
    "        count = 0\n",
    "        while (it.next):\n",
    "            if it.data == data:\n",
    "                it = it.next\n",
    "                count += 1\n",
    "                break\n",
    "            else:\n",
    "                it = it.next\n",
    "        while it is not None:\n",
    "            it = it.next\n",
    "            count += 1\n",
    "        print(count)    \n",
    "\n",
    "list = SLinkedList()\n",
    "list.root = Node(\"A\")\n",
    "list.addEnd(\"l\")\n",
    "list.addEnd(\"l\")\n",
    "list.addEnd(\"e\")\n",
    "list.addEnd(\"i\")\n",
    "list.addEnd(\"n\")\n",
    "\n",
    "\n",
    "\n",
    "list.kth_to_last(\"e\")\n"
   ]
  },
  {
   "cell_type": "code",
   "execution_count": 18,
   "metadata": {},
   "outputs": [
    {
     "name": "stdout",
     "output_type": "stream",
     "text": [
      "3  th to Last node is \n"
     ]
    },
    {
     "data": {
      "text/plain": [
       "6"
      ]
     },
     "execution_count": 18,
     "metadata": {},
     "output_type": "execute_result"
    }
   ],
   "source": [
    "class Node:\n",
    "    def __init__(self,data=None):\n",
    "        self.data = data\n",
    "        self.next = None\n",
    "        \n",
    "class SLinkedList:\n",
    "    def __init__(self):\n",
    "        self.root = None\n",
    "    \n",
    "    def addEnd(self,data):\n",
    "        if self.root == None:\n",
    "            return\n",
    "        NewNode = Node(data)\n",
    "        it = self.root\n",
    "        while(it.next):\n",
    "            it = it.next\n",
    "        it.next = NewNode\n",
    "    \n",
    "    def kthToLast(self,it,k):\n",
    "        \n",
    "        if(it == None):\n",
    "            return 0\n",
    "        index = self.kthToLast(it.next,k) + 1\n",
    "        if it.data == k:\n",
    "            print(index ,\" th to Last node is \")\n",
    "        return index\n",
    "    \n",
    "    \n",
    "list = SLinkedList()\n",
    "list.root = Node(\"A\")\n",
    "list.addEnd(\"l\")\n",
    "list.addEnd(\"l\")\n",
    "list.addEnd(\"e\")\n",
    "list.addEnd(\"i\")\n",
    "list.addEnd(\"n\")\n",
    "it = list.root\n",
    "list.kthToLast(it,\"e\")    \n",
    "        "
   ]
  },
  {
   "cell_type": "code",
   "execution_count": 4,
   "metadata": {},
   "outputs": [
    {
     "name": "stdout",
     "output_type": "stream",
     "text": [
      "i\n"
     ]
    }
   ],
   "source": [
    "class Node:\n",
    "    def __init__(self,data=None):\n",
    "        self.data = data\n",
    "        self.next = None\n",
    "    \n",
    "class SLinkedList:\n",
    "    def __init__(self):\n",
    "        self.head = None\n",
    "\n",
    "    def add(self,data):\n",
    "        NewNode = Node(data)\n",
    "        NewNode.next = self.head\n",
    "        self.head = NewNode\n",
    "        \n",
    "    def kthFromLast(self,n):\n",
    "        \n",
    "        length = 0\n",
    "        it = self.head\n",
    "        while it is not None:\n",
    "            it = it.next\n",
    "            length += 1\n",
    "        if n>length:\n",
    "                return    \n",
    "        it = self.head\n",
    "        for i in range(0,length-n):\n",
    "            it = it.next    \n",
    "        print(it.data)\n",
    "        \n",
    "list = SLinkedList()\n",
    "list.root = Node(\"A\")\n",
    "list.add(\"l\")\n",
    "list.add(\"l\")\n",
    "list.add(\"e\")\n",
    "list.add(\"i\")\n",
    "list.add(\"n\")\n",
    "\n",
    "list.kthFromLast(4)\n",
    "        "
   ]
  },
  {
   "cell_type": "code",
   "execution_count": 37,
   "metadata": {},
   "outputs": [
    {
     "name": "stdout",
     "output_type": "stream",
     "text": [
      "5  th node from end is  A\n"
     ]
    }
   ],
   "source": [
    "class Node:\n",
    "    def __init__(self,data):\n",
    "        self.data = data\n",
    "        self.next = None\n",
    "\n",
    "class SLinkedList:\n",
    "    def __init__(self):\n",
    "        self.head = None\n",
    "        \n",
    "    def add(self,data):\n",
    "        NewNode = Node(data)\n",
    "        NewNode.next = self.head\n",
    "        self.head = NewNode\n",
    "        \n",
    "    def nthFromLast(self,n):\n",
    "        slow = self.head\n",
    "        fast = self.head\n",
    "        \n",
    "        count = 0\n",
    "        while(count<n):\n",
    "            if(fast is None):\n",
    "                print(\"Demandation is bigger than actual size\")\n",
    "                return\n",
    "            fast = fast.next\n",
    "            count+=1\n",
    "        \n",
    "        if fast is None:\n",
    "            if self.head is not None:\n",
    "                print(n,\" th node from end is \",slow.data)\n",
    "        else:\n",
    "                while fast is not None:\n",
    "                    slow = slow.next\n",
    "                    fast = fast.next\n",
    "                print(n,\" th node from last is \",slow.data)\n",
    "                \n",
    "list = SLinkedList()\n",
    "list.head = Node(\"s\")\n",
    "list.add(\"e\")\n",
    "list.add(\"l\")\n",
    "list.add(\"l\")\n",
    "list.add(\"A\")\n",
    "\n",
    "list.nthFromLast(5)\n"
   ]
  },
  {
   "cell_type": "code",
   "execution_count": null,
   "metadata": {},
   "outputs": [],
   "source": []
  }
 ],
 "metadata": {
  "kernelspec": {
   "display_name": "Python 3",
   "language": "python",
   "name": "python3"
  },
  "language_info": {
   "codemirror_mode": {
    "name": "ipython",
    "version": 3
   },
   "file_extension": ".py",
   "mimetype": "text/x-python",
   "name": "python",
   "nbconvert_exporter": "python",
   "pygments_lexer": "ipython3",
   "version": "3.7.4"
  }
 },
 "nbformat": 4,
 "nbformat_minor": 4
}
