{
 "cells": [
  {
   "cell_type": "code",
   "execution_count": 4,
   "metadata": {},
   "outputs": [
    {
     "name": "stdout",
     "output_type": "stream",
     "text": [
      "dimanche\n",
      "lundi\n",
      "mardi\n",
      "mercredi\n"
     ]
    }
   ],
   "source": [
    "class Node:\n",
    "    def __init__(self,dataval = None):\n",
    "        self.dataval = dataval\n",
    "        self.nextval = None\n",
    "\n",
    "class LinkedList:\n",
    "    def __init__(self):\n",
    "        self.headval = None\n",
    "\n",
    "    def listPrint(self):        \n",
    "        printval = self.headval\n",
    "        while printval is not None:\n",
    "            print(printval.dataval)\n",
    "            printval = printval.nextval\n",
    "            \n",
    "    def atBeginning(self,newdata):\n",
    "        NewNode = Node(newdata)\n",
    "        NewNode.nextval = self.headval\n",
    "        self.headval = NewNode\n",
    "\n",
    "list = LinkedList()\n",
    "list.headval = Node(\"lundi\")\n",
    "e2 = Node(\"mardi\")\n",
    "e3 = Node(\"mercredi\")\n",
    "list.headval.nextval = e2\n",
    "e2.nextval = e3\n",
    "\n",
    "\n",
    "\n",
    "list.atBeginning(\"dimanche\")\n",
    "list.listPrint()\n"
   ]
  },
  {
   "cell_type": "code",
   "execution_count": null,
   "metadata": {},
   "outputs": [],
   "source": []
  }
 ],
 "metadata": {
  "kernelspec": {
   "display_name": "Python 3",
   "language": "python",
   "name": "python3"
  },
  "language_info": {
   "codemirror_mode": {
    "name": "ipython",
    "version": 3
   },
   "file_extension": ".py",
   "mimetype": "text/x-python",
   "name": "python",
   "nbconvert_exporter": "python",
   "pygments_lexer": "ipython3",
   "version": "3.7.4"
  }
 },
 "nbformat": 4,
 "nbformat_minor": 4
}
