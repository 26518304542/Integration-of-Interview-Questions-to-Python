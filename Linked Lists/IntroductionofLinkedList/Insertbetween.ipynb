{
 "cells": [
  {
   "cell_type": "code",
   "execution_count": 1,
   "metadata": {},
   "outputs": [
    {
     "name": "stdout",
     "output_type": "stream",
     "text": [
      "lundi\n",
      "mardi\n",
      "jeudi\n",
      "lundi\n",
      "mardi\n",
      "mercredi\n",
      "jeudi\n"
     ]
    }
   ],
   "source": [
    "class Node:\n",
    "    def __init__(self,dataval=None):\n",
    "        self.dataval = dataval\n",
    "        self.nextval = None\n",
    "\n",
    "class LinkedList:\n",
    "    def __init__(self):\n",
    "        self.headval = None\n",
    "    def addBetweenNodes(self,middle_node,newdata):\n",
    "        if(middle_node is None):\n",
    "            print(\"No middle node\")\n",
    "            return\n",
    "        NewNode = Node(newdata)\n",
    "        \n",
    "        NewNode.nextval = middle_node.nextval\n",
    "        middle_node.nextval = NewNode\n",
    "    def printlist(self):\n",
    "        printval = self.headval\n",
    "        while printval is not None:\n",
    "            print(printval.dataval)\n",
    "            printval = printval.nextval\n",
    "            \n",
    "list = LinkedList()\n",
    "list.headval = Node(\"lundi\")\n",
    "e2 = Node(\"mardi\")\n",
    "e4 = Node(\"jeudi\")\n",
    "list.headval.nextval = e2\n",
    "e2.nextval = e4\n",
    "\n",
    "list.printlist()\n",
    "\n",
    "list.addBetweenNodes(list.headval.nextval,\"mercredi\")\n",
    "\n",
    "list.printlist()\n",
    "\n",
    "\n",
    "        "
   ]
  },
  {
   "cell_type": "code",
   "execution_count": null,
   "metadata": {},
   "outputs": [],
   "source": []
  }
 ],
 "metadata": {
  "kernelspec": {
   "display_name": "Python 3",
   "language": "python",
   "name": "python3"
  },
  "language_info": {
   "codemirror_mode": {
    "name": "ipython",
    "version": 3
   },
   "file_extension": ".py",
   "mimetype": "text/x-python",
   "name": "python",
   "nbconvert_exporter": "python",
   "pygments_lexer": "ipython3",
   "version": "3.7.4"
  }
 },
 "nbformat": 4,
 "nbformat_minor": 4
}
